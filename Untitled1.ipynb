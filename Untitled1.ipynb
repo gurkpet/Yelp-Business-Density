{
 "cells": [
  {
   "cell_type": "code",
   "execution_count": null,
   "metadata": {
    "collapsed": true
   },
   "outputs": [],
   "source": [
    "API_KEY = 'AXqBHTFIPchxSa6pM-Mc4g'\n",
    "API_SECRET = 'YBfstjuIQFaQlkbz9GxIscGElVjH6RjZf2pUgdoHRZhquAKwoCxiQ8k4d2e3ewjt'\n",
    "print('Loaded API KEY AND SECRET FROM FILE')"
   ]
  }
 ],
 "metadata": {
  "kernelspec": {
   "display_name": "Python 3",
   "language": "python",
   "name": "python3"
  },
  "language_info": {
   "codemirror_mode": {
    "name": "ipython",
    "version": 3
   },
   "file_extension": ".py",
   "mimetype": "text/x-python",
   "name": "python",
   "nbconvert_exporter": "python",
   "pygments_lexer": "ipython3",
   "version": "3.6.1"
  }
 },
 "nbformat": 4,
 "nbformat_minor": 2
}
